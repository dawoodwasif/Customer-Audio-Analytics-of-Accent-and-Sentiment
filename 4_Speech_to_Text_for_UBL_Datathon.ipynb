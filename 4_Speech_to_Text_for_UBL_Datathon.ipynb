{
  "nbformat": 4,
  "nbformat_minor": 0,
  "metadata": {
    "colab": {
      "name": "4. Speech to Text for UBL Datathon.ipynb",
      "provenance": [],
      "authorship_tag": "ABX9TyM8c+FDAPwA9TP+zEEM2UIG",
      "include_colab_link": true
    },
    "kernelspec": {
      "name": "python3",
      "display_name": "Python 3"
    },
    "language_info": {
      "name": "python"
    }
  },
  "cells": [
    {
      "cell_type": "markdown",
      "metadata": {
        "id": "view-in-github",
        "colab_type": "text"
      },
      "source": [
        "<a href=\"https://colab.research.google.com/github/dawoodwasif/Customer-Audio-Analytics-of-Accent-and-Sentiment/blob/main/4_Speech_to_Text_for_UBL_Datathon.ipynb\" target=\"_parent\"><img src=\"https://colab.research.google.com/assets/colab-badge.svg\" alt=\"Open In Colab\"/></a>"
      ]
    },
    {
      "cell_type": "markdown",
      "source": [
        "### Installation and Imports"
      ],
      "metadata": {
        "id": "CMMSRxDCFwhJ"
      }
    },
    {
      "cell_type": "code",
      "execution_count": 1,
      "metadata": {
        "colab": {
          "base_uri": "https://localhost:8080/"
        },
        "id": "ntH-704YCt9r",
        "outputId": "3fea1311-415f-48b4-83d0-f02382e16a71"
      },
      "outputs": [
        {
          "output_type": "stream",
          "name": "stdout",
          "text": [
            "Collecting SpeechRecognition\n",
            "  Downloading SpeechRecognition-3.8.1-py2.py3-none-any.whl (32.8 MB)\n",
            "\u001b[K     |████████████████████████████████| 32.8 MB 128 kB/s \n",
            "\u001b[?25hInstalling collected packages: SpeechRecognition\n",
            "Successfully installed SpeechRecognition-3.8.1\n",
            "Collecting pydub\n",
            "  Downloading pydub-0.25.1-py2.py3-none-any.whl (32 kB)\n",
            "Installing collected packages: pydub\n",
            "Successfully installed pydub-0.25.1\n"
          ]
        }
      ],
      "source": [
        "!pip install SpeechRecognition\n",
        "!pip install pydub"
      ]
    },
    {
      "cell_type": "code",
      "source": [
        "import speech_recognition as sr\n",
        "from os import path\n",
        "from pydub import AudioSegment\n"
      ],
      "metadata": {
        "id": "pX7z40QcC8Uw"
      },
      "execution_count": 2,
      "outputs": []
    },
    {
      "cell_type": "code",
      "source": [
        "available_languages = {\n",
        "'australia' :\t'en-AU',\n",
        "'canada'\t: 'en-CA'\t,\n",
        "'ghana' :\t'en-GH' ,\t\n",
        "'hong kong':\t'en-HK'\t,\t\t\t\n",
        "'india':\t'en-IN',\n",
        "'ireland':\t'en-IE',\n",
        "'kenya':\t'en-KE',\t\t\n",
        "'new zealand':\t'en-NZ',\t\n",
        "'nigeria':\t'en-NG',\t\n",
        "'pakistan' : 'en-PK',\n",
        "'philippines': 'en-PH',\n",
        "'singapore' :\t'en-SG'\t,\n",
        "'south africa':\t'en-ZA',\t\n",
        "'tanzania': 'en-TZ',\n",
        "'uk':\t'en-GB'\t,\n",
        "'usa' :\t'en-US'\n",
        "}\t\n",
        "\n",
        "\n",
        "# files                                                                         \n",
        "src = '/content/farsi1.mp3'\n",
        "dst = '/content/test.wav'\n",
        "\n",
        "# convert wav to mp3                                                            \n",
        "sound = AudioSegment.from_mp3(src)\n",
        "sound.export(dst, format=\"wav\")"
      ],
      "metadata": {
        "colab": {
          "base_uri": "https://localhost:8080/"
        },
        "id": "yEbmYaWqDa7M",
        "outputId": "8c5e3565-faf8-4e8a-ebe9-963681a9bd68"
      },
      "execution_count": 4,
      "outputs": [
        {
          "output_type": "execute_result",
          "data": {
            "text/plain": [
              "<_io.BufferedRandom name='/content/test.wav'>"
            ]
          },
          "metadata": {},
          "execution_count": 4
        }
      ]
    },
    {
      "cell_type": "markdown",
      "source": [
        "###  WER function for transcription error"
      ],
      "metadata": {
        "id": "mhiBHDxVzTQL"
      }
    },
    {
      "cell_type": "code",
      "source": [
        "import sys\n",
        "import numpy\n",
        "\n",
        "def editDistance(r, h):\n",
        "    '''\n",
        "    This function is to calculate the edit distance of reference sentence and the hypothesis sentence.\n",
        "    Main algorithm used is dynamic programming.\n",
        "    Attributes: \n",
        "        r -> the list of words produced by splitting reference sentence.\n",
        "        h -> the list of words produced by splitting hypothesis sentence.\n",
        "    '''\n",
        "    d = numpy.zeros((len(r)+1)*(len(h)+1), dtype=numpy.uint8).reshape((len(r)+1, len(h)+1))\n",
        "    for i in range(len(r)+1):\n",
        "        d[i][0] = i\n",
        "    for j in range(len(h)+1):\n",
        "        d[0][j] = j\n",
        "    for i in range(1, len(r)+1):\n",
        "        for j in range(1, len(h)+1):\n",
        "            if r[i-1] == h[j-1]:\n",
        "                d[i][j] = d[i-1][j-1]\n",
        "            else:\n",
        "                substitute = d[i-1][j-1] + 1\n",
        "                insert = d[i][j-1] + 1\n",
        "                delete = d[i-1][j] + 1\n",
        "                d[i][j] = min(substitute, insert, delete)\n",
        "    return d\n",
        "\n",
        "def getStepList(r, h, d):\n",
        "    '''\n",
        "    This function is to get the list of steps in the process of dynamic programming.\n",
        "    Attributes: \n",
        "        r -> the list of words produced by splitting reference sentence.\n",
        "        h -> the list of words produced by splitting hypothesis sentence.\n",
        "        d -> the matrix built when calulating the editting distance of h and r.\n",
        "    '''\n",
        "    x = len(r)\n",
        "    y = len(h)\n",
        "    list = []\n",
        "    while True:\n",
        "        if x == 0 and y == 0: \n",
        "            break\n",
        "        elif x >= 1 and y >= 1 and d[x][y] == d[x-1][y-1] and r[x-1] == h[y-1]: \n",
        "            list.append(\"e\")\n",
        "            x = x - 1\n",
        "            y = y - 1\n",
        "        elif y >= 1 and d[x][y] == d[x][y-1]+1:\n",
        "            list.append(\"i\")\n",
        "            x = x\n",
        "            y = y - 1\n",
        "        elif x >= 1 and y >= 1 and d[x][y] == d[x-1][y-1]+1:\n",
        "            list.append(\"s\")\n",
        "            x = x - 1\n",
        "            y = y - 1\n",
        "        else:\n",
        "            list.append(\"d\")\n",
        "            x = x - 1\n",
        "            y = y\n",
        "    return list[::-1]\n",
        "\n",
        "def alignedPrint(list, r, h, result):\n",
        "    '''\n",
        "    This funcition is to print the result of comparing reference and hypothesis sentences in an aligned way.\n",
        "    \n",
        "    Attributes:\n",
        "        list   -> the list of steps.\n",
        "        r      -> the list of words produced by splitting reference sentence.\n",
        "        h      -> the list of words produced by splitting hypothesis sentence.\n",
        "        result -> the rate calculated based on edit distance.\n",
        "    '''\n",
        "    print(\"REF:\", end=\" \")\n",
        "    for i in range(len(list)):\n",
        "        if list[i] == \"i\":\n",
        "            count = 0\n",
        "            for j in range(i):\n",
        "                if list[j] == \"d\":\n",
        "                    count += 1\n",
        "            index = i - count\n",
        "            print(\" \"*(len(h[index])), end=\" \")\n",
        "        elif list[i] == \"s\":\n",
        "            count1 = 0\n",
        "            for j in range(i):\n",
        "                if list[j] == \"i\":\n",
        "                    count1 += 1\n",
        "            index1 = i - count1\n",
        "            count2 = 0\n",
        "            for j in range(i):\n",
        "                if list[j] == \"d\":\n",
        "                    count2 += 1\n",
        "            index2 = i - count2\n",
        "            if len(r[index1]) < len(h[index2]):\n",
        "                print(r[index1] + \" \" * (len(h[index2])-len(r[index1])), end=\" \")\n",
        "            else:\n",
        "                print(r[index1], end=\" \"),\n",
        "        else:\n",
        "            count = 0\n",
        "            for j in range(i):\n",
        "                if list[j] == \"i\":\n",
        "                    count += 1\n",
        "            index = i - count\n",
        "            print(r[index], end=\" \"),\n",
        "    print(\"\\nHYP:\", end=\" \")\n",
        "    for i in range(len(list)):\n",
        "        if list[i] == \"d\":\n",
        "            count = 0\n",
        "            for j in range(i):\n",
        "                if list[j] == \"i\":\n",
        "                    count += 1\n",
        "            index = i - count\n",
        "            print(\" \" * (len(r[index])), end=\" \")\n",
        "        elif list[i] == \"s\":\n",
        "            count1 = 0\n",
        "            for j in range(i):\n",
        "                if list[j] == \"i\":\n",
        "                    count1 += 1\n",
        "            index1 = i - count1\n",
        "            count2 = 0\n",
        "            for j in range(i):\n",
        "                if list[j] == \"d\":\n",
        "                    count2 += 1\n",
        "            index2 = i - count2\n",
        "            if len(r[index1]) > len(h[index2]):\n",
        "                print(h[index2] + \" \" * (len(r[index1])-len(h[index2])), end=\" \")\n",
        "            else:\n",
        "                print(h[index2], end=\" \")\n",
        "        else:\n",
        "            count = 0\n",
        "            for j in range(i):\n",
        "                if list[j] == \"d\":\n",
        "                    count += 1\n",
        "            index = i - count\n",
        "            print(h[index], end=\" \")\n",
        "    print(\"\\nEVA:\", end=\" \")\n",
        "    for i in range(len(list)):\n",
        "        if list[i] == \"d\":\n",
        "            count = 0\n",
        "            for j in range(i):\n",
        "                if list[j] == \"i\":\n",
        "                    count += 1\n",
        "            index = i - count\n",
        "            print(\"D\" + \" \" * (len(r[index])-1), end=\" \")\n",
        "        elif list[i] == \"i\":\n",
        "            count = 0\n",
        "            for j in range(i):\n",
        "                if list[j] == \"d\":\n",
        "                    count += 1\n",
        "            index = i - count\n",
        "            print(\"I\" + \" \" * (len(h[index])-1), end=\" \")\n",
        "        elif list[i] == \"s\":\n",
        "            count1 = 0\n",
        "            for j in range(i):\n",
        "                if list[j] == \"i\":\n",
        "                    count1 += 1\n",
        "            index1 = i - count1\n",
        "            count2 = 0\n",
        "            for j in range(i):\n",
        "                if list[j] == \"d\":\n",
        "                    count2 += 1\n",
        "            index2 = i - count2\n",
        "            if len(r[index1]) > len(h[index2]):\n",
        "                print(\"S\" + \" \" * (len(r[index1])-1), end=\" \")\n",
        "            else:\n",
        "                print(\"S\" + \" \" * (len(h[index2])-1), end=\" \")\n",
        "        else:\n",
        "            count = 0\n",
        "            for j in range(i):\n",
        "                if list[j] == \"i\":\n",
        "                    count += 1\n",
        "            index = i - count\n",
        "            print(\" \" * (len(r[index])), end=\" \")\n",
        "    print(\"\\nWER: \" + result)\n",
        "\n",
        "def wer(r, h):\n",
        "    \"\"\"\n",
        "    This is a function that calculate the word error rate in ASR.\n",
        "    You can use it like this: wer(\"what is it\".split(), \"what is\".split()) \n",
        "    \"\"\"\n",
        "    # build the matrix\n",
        "    d = editDistance(r, h)\n",
        "\n",
        "    # find out the manipulation steps\n",
        "    list = getStepList(r, h, d)\n",
        "\n",
        "    # print the result in aligned way\n",
        "    result = float(d[len(r)][len(h)]) / len(r) * 100\n",
        "    result = str(\"%.2f\" % result) + \"%\"\n",
        "    alignedPrint(list, r, h, result)\n"
      ],
      "metadata": {
        "id": "LEl4z1kVHS65"
      },
      "execution_count": 10,
      "outputs": []
    },
    {
      "cell_type": "code",
      "source": [
        "country = \"pakistan\"\n",
        "#country = accent_classifier_model(src)"
      ],
      "metadata": {
        "id": "YMKfR_hwIUaN"
      },
      "execution_count": 11,
      "outputs": []
    },
    {
      "cell_type": "code",
      "source": [
        "language_code = \"en-US\" # default\n",
        "if country in available_languages.keys():\n",
        "      language_code = available_languages[country]\n",
        "      print(language_code)"
      ],
      "metadata": {
        "colab": {
          "base_uri": "https://localhost:8080/"
        },
        "id": "LTsT6iZ4HaGK",
        "outputId": "45a60afd-e576-4542-d227-d73ed8bf78fb"
      },
      "execution_count": 12,
      "outputs": [
        {
          "output_type": "stream",
          "name": "stdout",
          "text": [
            "en-PK\n"
          ]
        }
      ]
    },
    {
      "cell_type": "markdown",
      "source": [
        "### Transcribe speech"
      ],
      "metadata": {
        "id": "-m0_qaQLzd-x"
      }
    },
    {
      "cell_type": "code",
      "source": [
        "r = sr.Recognizer()\n",
        "\n",
        "with sr.AudioFile(dst) as source:\n",
        "    audio = r.record(source)\n",
        "\n",
        "sp2txt = r.recognize_google(audio, language=language_code)\n",
        "sp2txt\n"
      ],
      "metadata": {
        "id": "WYLEDn9jDCHG",
        "colab": {
          "base_uri": "https://localhost:8080/",
          "height": 53
        },
        "outputId": "c2d799a5-0c4d-436c-8017-71679c5c9244"
      },
      "execution_count": 19,
      "outputs": [
        {
          "output_type": "execute_result",
          "data": {
            "text/plain": [
              "'please call Stella ask her to bring this things with her from still sore 6 spoon of fresh snow piece 566 of blue cheese and maybe a snake for her brother Bob we also need a small plastic snake and a big toy frog for the kids she can scoop this things into 3 red bags and we will go meet her Wednesday at the train station'"
            ],
            "application/vnd.google.colaboratory.intrinsic+json": {
              "type": "string"
            }
          },
          "metadata": {},
          "execution_count": 19
        }
      ]
    },
    {
      "cell_type": "markdown",
      "source": [
        "### Find error"
      ],
      "metadata": {
        "id": "cjsrOYAjzb3x"
      }
    },
    {
      "cell_type": "code",
      "source": [
        "speech_accent_archieve_transcript = 'please call Stella and ask her to bring these things with her from the store 6 spoons of fresh snow peas 5 thick slabs of blue cheese and maybe a snack for her brother Bob we also need a small plastic snake and a big toy frog for the kids she can scoop these things into 3 red bags and we will go meet her Wednesday at the train station'\n"
      ],
      "metadata": {
        "id": "w24mHN_yH4pl"
      },
      "execution_count": 23,
      "outputs": []
    },
    {
      "cell_type": "code",
      "source": [
        "r = speech_accent_archieve_transcript\n",
        "# copy text from transcribed function\n",
        "h = sp2txt\n",
        "wer(r, h)   # error is only 9.23%"
      ],
      "metadata": {
        "colab": {
          "base_uri": "https://localhost:8080/"
        },
        "id": "s_xTtIgbDEqe",
        "outputId": "78512be8-f162-4f2e-8c47-b1e35fa77bde"
      },
      "execution_count": 24,
      "outputs": [
        {
          "output_type": "stream",
          "name": "stdout",
          "text": [
            "REF: p l e a s e   c a l l   S t e l l a   a n d   a s k   h e r   t o   b r i n g   t h e s e   t h i n g s   w i t h   h e r   f r o m     t h e     s t o r e   6   s p o o n s   o f   f r e s h   s n o w   p e a s   5   t h i   c k   s l a b s   o f   b l u e   c h e e s e   a n d   m a y b e   a   s n a c k     f o r   h e r   b r o t h e r   B o b   w e   a l s o   n e e d   a   s m a l l   p l a s t i c   s n a k e   a n d   a   b i g   t o y   f r o g   f o r   t h e   k i d s   s h e   c a n   s c o o p   t h e s e   t h i n g s   i n t o   3   r e d   b a g s   a n d   w e   w i l l   g o   m e e t   h e r   W e d n e s d a y   a t   t h e   t r a i n   s t a t i o n \n",
            "HYP: p l e a s e   c a l l   S t e l l     a       a s k   h e r   t o   b r i n g   t h i s     t h i n g s   w i t h   h e r   f r o m   s t i l l   s   o r e   6   s p o o n     o f   f r e s h   s n o w   p                 i e c e       5 6 6   o f   b l u e   c h e e s e   a n d   m a y b e   a   s n a   k e   f o r   h e r   b r o t h e r   B o b   w e   a l s o   n e e d   a   s m a l l   p l a s t i c   s n a k e   a n d   a   b i g   t o y   f r o g   f o r   t h e   k i d s   s h e   c a n   s c o o p   t h i s     t h i n g s   i n t o   3   r e d   b a g s   a n d   w e   w i l l   g o   m e e t   h e r   W e d n e s d a y   a t   t h e   t r a i n   s t a t i o n \n",
            "EVA:                                   D D   D D                                         S   D                                             I   S S I     D                       D                                 D D D D D D D D   I   S   D D S S S                                                               D   I                                                                                                                                                                                                                 S   D                                                                                                                                                             \n",
            "WER: 9.23%\n"
          ]
        }
      ]
    }
  ]
}